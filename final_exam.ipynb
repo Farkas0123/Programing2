{
 "cells": [
  {
   "cell_type": "markdown",
   "metadata": {
    "id": "dL7gjrpIGcxW"
   },
   "source": [
    "# Final Exam\n",
    "\n",
    "The final test consists of two parts. The first part consists of multiple choice questions available via Moodle. The second consists of coding problems to be solved in this notebook.\n",
    "\n",
    "You have **90 minutes** to complete the two parts. You are allowed to use the **help/?** function in Python, but **no other sources** (including any previous Jupyter notebook, Google search, Stack Overflow, ChatGPT, etc.).\n"
   ]
  },
  {
   "cell_type": "markdown",
   "metadata": {
    "id": "-C2KmXwZjKeh"
   },
   "source": [
    "j<br><br><br><br><br><br><br><br><br><br><br><br><br><br><br><br><br><br><br><br><br><br><br><br>"
   ]
  },
  {
   "cell_type": "markdown",
   "metadata": {
    "id": "pjPhfejsjKei"
   },
   "source": [
    "----------------"
   ]
  },
  {
   "cell_type": "markdown",
   "metadata": {
    "id": "BuNn9zm1jKei"
   },
   "source": [
    "# Part 2:\n",
    "**Programming tasks<br>(84 points)**\n",
    "\n",
    "**Please write your code to the Code cell below each question.**\n",
    "\n",
    "Note: make sure you test your code. You can also run part of your code while you are working on it."
   ]
  },
  {
   "cell_type": "markdown",
   "metadata": {
    "id": "RsU_Al1DHvbi"
   },
   "source": [
    "**Q1 (20 points):** An increasing subarray of an integer array is any consecutive sequence of array integers within the original array whose values strictly increase. Write a Python function find_long_subarray(A) which accepts a Python tuple\n",
    "\n",
    "$A = (a_0, a_1, . . . , a_{n−1})$\n",
    "\n",
    "of $n$ positive integers, and returns a longest increasing subarray of A, i.e. an increasing subarray with length at least as large as every other increasing subarray. For example, if $A = (1,3,4,2,7,5,6,9,8)$, your program should return either (1,3,4) and (5,6,9)."
   ]
  },
  {
   "cell_type": "code",
   "execution_count": null,
   "metadata": {
    "id": "AFEQCjUBGbQg",
    "outputId": "35298e9f-0880-4bac-e963-4cd0c358c5f4"
   },
   "outputs": [
    {
     "data": {
      "text/plain": [
       "(1, 3, 4)"
      ]
     },
     "execution_count": 19,
     "metadata": {},
     "output_type": "execute_result"
    }
   ],
   "source": [
    "#1\n",
    "def find_long_subarray(A):\n",
    "    if not A:\n",
    "        return ()\n",
    "    n = len(A)\n",
    "    max_len = 1\n",
    "    current_len = 1\n",
    "    max_start_index = 0\n",
    "    current_start_index = 0\n",
    "    for i in range(1, n):\n",
    "        if A[i] > A[i - 1]:\n",
    "            current_len += 1\n",
    "        else:\n",
    "            if current_len > max_len:\n",
    "                max_len = current_len\n",
    "                max_start_index = current_start_index\n",
    "            current_start_index = i\n",
    "            current_len = 1\n",
    "    if current_len > max_len:\n",
    "        max_len = current_len\n",
    "        max_start_index = current_start_index\n",
    "    return tuple(A[max_start_index:max_start_index + max_len])\n",
    "A = (1, 3, 4, 2, 7, 5, 6, 9, 8)\n",
    "print(find_long_subarray(A))"
   ]
  },
  {
   "cell_type": "markdown",
   "metadata": {
    "id": "eqhdpVVUKofp"
   },
   "source": [
    "**Q2. (20 points):**\n",
    "- (10) First implement a sorted linked list data structure by completing the code below. This data structure should store integers in ascending order and remain sorted even when updating.\n",
    "- (5) Second, write a function that takes a sorted Python list of integers and an integer, adds the integer into the list and keeps the list sorted.\n",
    "- (5) Finally, generate 10,000 random integers from 1 to 1,000,000, putting one copy into a Python list and another into an instance of your SortedLinkedList class. Then compare the time it takes to insert 1,000 new random integers from the same range into the two data structures. Use time or timeit, whichever you prefer."
   ]
  },
  {
   "cell_type": "code",
   "execution_count": null,
   "metadata": {
    "id": "d8Ks-iQGwC1N"
   },
   "outputs": [],
   "source": [
    "#2\n",
    "class ListNode:\n",
    "    def __init__(self, value, next=None):\n",
    "        self.value = value\n",
    "        self.next = next\n",
    "\n",
    "class SortedLinkedList:\n",
    "    def __init__(self):\n",
    "        self.head = None\n",
    "\n",
    "    def insert(self, value):\n",
    "        new_node = ListNode(value)\n",
    "        if not self.head or value < self.head.value:\n",
    "            new_node.next = self.head\n",
    "            self.head = new_node\n",
    "        else:\n",
    "            if value < self.head.value:\n",
    "                new_node.next = self.head\n",
    "                self.head = new_node\n",
    "            else:\n",
    "                current = self.head\n",
    "                while current.next and current.next.value < value:\n",
    "                    current = current.next\n",
    "                new_node.next = current.next\n",
    "                current.next = new_node\n",
    "\n",
    "    def print_list(self):\n",
    "        current = self.head\n",
    "        while current:\n",
    "            print(current.value, end=' ')\n",
    "            current = current.next\n",
    "\n",
    "def update_sorted_python_list(sorted_list, element):\n",
    "    for i in range(len(sorted_list)):\n",
    "        if sorted_list[i] > element:\n",
    "            sorted_list.insert(i, element)\n",
    "            return\n",
    "    sorted_list.append(element)  # If the element is greater than all existing elements\n",
    "\n",
    "import time\n",
    "import random\n",
    "\n",
    "# Generating 10,000 random integers from 1 to 1,000,000\n",
    "random_integers = [random.randint(1, 1000000) for _ in range(10000)]\n",
    "\n",
    "# Copying them into a Python list and a SortedLinkedList instance\n",
    "python_list = sorted(random_integers)\n",
    "linked_list = SortedLinkedList()\n",
    "for number in python_list:\n",
    "    linked_list.insert(number)\n",
    "\n",
    "# Generating 1,000 new random integers for insertion\n",
    "new_random_integers = [random.randint(1, 1000000) for _ in range(1000)]\n",
    "\n",
    "# Measuring the time taken to insert 1,000 integers into the Python list\n",
    "start_time = time.time()\n",
    "for number in new_random_integers:\n",
    "    update_sorted_python_list(python_list, number)\n",
    "python_list_time = time.time() - start_time\n",
    "\n",
    "# Measuring the time taken to insert 1,000 integers into the SortedLinkedList\n",
    "start_time = time.time()\n",
    "for number in new_random_integers:\n",
    "    linked_list.insert(number)\n",
    "linked_list_time = time.time() - start_time\n",
    "\n",
    "print(f\"Time taken for Python list: {python_list_time} seconds\")\n",
    "print(f\"Time taken for SortedLinkedList: {linked_list_time} seconds\")\n"
   ]
  },
  {
   "cell_type": "markdown",
   "metadata": {
    "id": "Li-0Qv1RMywH",
    "outputId": "6d382313-2775-4108-dc49-44a1f6c15442",
    "tags": []
   },
   "source": [
    "**Q3. (30 points):**\n",
    "\n",
    "A(5): write code that generates a list of $n$ random numpy matrices with the following conditions:\n",
    "- The matrices should have random float entries between 0 and 1.\n",
    "- They should also have a random number of rows and columns between 100 and 200.\n",
    "- The number of columns of the $k$th matrix should be the same as the number of rows in the $k+1$th matrix.\n",
    "\n",
    "For example, here is an example of three valid random matrix shapes (note your matrices should be bigger, with 100-200 rows/columns), in order:\n",
    "- M1 = 4x7\n",
    "- M2 = 7x6\n",
    "- M3 = 6x4"
   ]
  },
  {
   "cell_type": "code",
   "execution_count": null,
   "metadata": {
    "id": "_pFtyk76jKej",
    "outputId": "d1c642a0-7700-47ba-fcc4-f0b374998eb4"
   },
   "outputs": [
    {
     "data": {
      "text/plain": [
       "[array([[0.21285052, 0.24002661, 0.25980432, ..., 0.99425074, 0.58382974,\n",
       "         0.47165639],\n",
       "        [0.8802695 , 0.7658106 , 0.03429246, ..., 0.45229141, 0.6433997 ,\n",
       "         0.2817301 ],\n",
       "        [0.7357616 , 0.469331  , 0.28758037, ..., 0.268378  , 0.11675331,\n",
       "         0.68165614],\n",
       "        ...,\n",
       "        [0.2003385 , 0.08298138, 0.42708111, ..., 0.99767056, 0.46712963,\n",
       "         0.48201199],\n",
       "        [0.15396542, 0.29996355, 0.51577227, ..., 0.398777  , 0.92991607,\n",
       "         0.63525341],\n",
       "        [0.9671573 , 0.70072891, 0.80048291, ..., 0.85759409, 0.56485044,\n",
       "         0.33032431]]),\n",
       " array([[0.50623632, 0.60255792, 0.18099484, ..., 0.43277982, 0.58596757,\n",
       "         0.88259408],\n",
       "        [0.42417638, 0.58902255, 0.57927212, ..., 0.38778237, 0.86525107,\n",
       "         0.29017792],\n",
       "        [0.03451492, 0.91891972, 0.54424022, ..., 0.44570469, 0.18567058,\n",
       "         0.99032649],\n",
       "        ...,\n",
       "        [0.0345156 , 0.06124368, 0.24798495, ..., 0.32900653, 0.34787559,\n",
       "         0.74908759],\n",
       "        [0.89890636, 0.5212021 , 0.05429233, ..., 0.89843754, 0.93355034,\n",
       "         0.72485314],\n",
       "        [0.33439707, 0.95457902, 0.64706383, ..., 0.84151193, 0.64636794,\n",
       "         0.52909176]]),\n",
       " array([[0.13140536, 0.39406596, 0.19463003, ..., 0.07201362, 0.21480936,\n",
       "         0.71492486],\n",
       "        [0.63579595, 0.43793395, 0.0070518 , ..., 0.40772412, 0.46411966,\n",
       "         0.67052333],\n",
       "        [0.75163369, 0.83847568, 0.5411399 , ..., 0.48599788, 0.62757831,\n",
       "         0.64267212],\n",
       "        ...,\n",
       "        [0.02985035, 0.56636787, 0.16892418, ..., 0.61824604, 0.85711682,\n",
       "         0.88314048],\n",
       "        [0.42583453, 0.01846039, 0.70013732, ..., 0.40592089, 0.39553317,\n",
       "         0.76358069],\n",
       "        [0.14845983, 0.13591252, 0.47117196, ..., 0.63766936, 0.99541036,\n",
       "         0.78991551]])]"
      ]
     },
     "execution_count": 9,
     "metadata": {},
     "output_type": "execute_result"
    }
   ],
   "source": [
    "#3a\n",
    "import numpy as np\n",
    "import random\n",
    "\n",
    "def generate_random_matrices(n):\n",
    "    matrices = []\n",
    "\n",
    "    # Generate the first matrix with random dimensions\n",
    "    rows = random.randint(100, 200)\n",
    "    cols = random.randint(100, 200)\n",
    "    first_matrix = np.random.rand(rows, cols)\n",
    "    matrices.append(first_matrix)\n",
    "\n",
    "    for i in range(1, n):\n",
    "        # The number of rows for the next matrix is the number of columns of the current one\n",
    "        rows = cols\n",
    "        cols = random.randint(100, 200)\n",
    "        next_matrix = np.random.rand(rows, cols)\n",
    "        matrices.append(next_matrix)\n",
    "\n",
    "    return matrices\n",
    "\n",
    "# Example usage:\n",
    "n = 3\n",
    "random_matrices = generate_random_matrices(n)\n",
    "random_matrices\n"
   ]
  },
  {
   "cell_type": "markdown",
   "metadata": {
    "id": "TN3CMwRcjKej"
   },
   "source": [
    "B(5): write a function that calculates how many operations are needed to multiply a matrix of shape $n,m$ by one of shape $m,p$. This value is given by $m \\times n \\times p$.\n"
   ]
  },
  {
   "cell_type": "code",
   "execution_count": null,
   "metadata": {
    "id": "_QUT865xjKej",
    "outputId": "2dbd8c0f-a084-41ba-aa57-f5df759f6089"
   },
   "outputs": [
    {
     "name": "stdout",
     "output_type": "stream",
     "text": [
      "Number of operations needed: 60\n"
     ]
    }
   ],
   "source": [
    "#3b\n",
    "import numpy as np\n",
    "\n",
    "def multiplication_cost(matrix1, matrix2):\n",
    "    n, m = matrix1.shape\n",
    "    m, p = matrix2.shape\n",
    "    return n * m * p\n",
    "\n",
    "# Example usage:\n",
    "matrix1 = np.random.rand(4, 5)  # Random matrix of shape 4x5\n",
    "matrix2 = np.random.rand(5, 3)  # Random matrix of shape 5x3\n",
    "cost = multiplication_cost(matrix1, matrix2)\n",
    "print(\"Number of operations needed:\", cost)\n",
    "\n"
   ]
  },
  {
   "cell_type": "markdown",
   "metadata": {
    "id": "56BDndrTjKej"
   },
   "source": [
    "C(5): write a function that multiplies a list of matrices in order from left to right, returning:\n",
    "- the resulting matrix product\n",
    "- the sum of all the operations/costs\n",
    "\n",
    "Remember to use np.dot to multiply matrices."
   ]
  },
  {
   "cell_type": "code",
   "execution_count": 1,
   "metadata": {
    "id": "0lpYKAjwjKej",
    "outputId": "125cb04a-a845-480b-c088-0cc40992394f"
   },
   "outputs": [
    {
     "name": "stdout",
     "output_type": "stream",
     "text": [
      "Resulting matrix:\n",
      "[[2.02793179 2.54807615]\n",
      " [2.48668151 3.14766782]\n",
      " [2.93624964 3.55234741]\n",
      " [1.20184987 1.57550199]]\n",
      "Total number of operations: 52\n"
     ]
    }
   ],
   "source": [
    "#3c\n",
    "import numpy as np\n",
    "\n",
    "def in_order_multiplication(list_of_matrices):\n",
    "    result = list_of_matrices[0]\n",
    "    total_operations = 0\n",
    "\n",
    "    for matrix in list_of_matrices[1:]:\n",
    "        result = np.dot(result, matrix)\n",
    "        total_operations += result.shape[0] * result.shape[1] * matrix.shape[1]\n",
    "\n",
    "    return result, total_operations\n",
    "\n",
    "# Example usage:\n",
    "matrix1 = np.random.rand(4, 5)  # Random matrix of shape 4x5\n",
    "matrix2 = np.random.rand(5, 3)  # Random matrix of shape 5x3\n",
    "matrix3 = np.random.rand(3, 2)  # Random matrix of shape 3x2\n",
    "\n",
    "result_matrix, total_operations = in_order_multiplication([matrix1, matrix2, matrix3])\n",
    "print(\"Resulting matrix:\")\n",
    "print(result_matrix)\n",
    "print(\"Total number of operations:\", total_operations)\n"
   ]
  },
  {
   "cell_type": "markdown",
   "metadata": {
    "id": "KWJyPlbLjKek"
   },
   "source": [
    "D(10): write a function that multiplies a list of matrices in a different order. Specifically, calculate the lowest cost pair of matrices first. Then update the costs and continue. Note this is a greedy heuristic."
   ]
  },
  {
   "cell_type": "code",
   "execution_count": null,
   "metadata": {
    "id": "iLWHLeM_jKek",
    "outputId": "200da078-3666-4321-f871-17914ee27793"
   },
   "outputs": [
    {
     "data": {
      "text/plain": [
       "(array([[2.58022347, 1.77575059],\n",
       "        [1.83379358, 1.24136669],\n",
       "        [3.17288273, 2.13119703],\n",
       "        [2.41253345, 1.5750859 ]]),\n",
       " 70)"
      ]
     },
     "execution_count": 12,
     "metadata": {},
     "output_type": "execute_result"
    }
   ],
   "source": [
    "#3d\n",
    "def greedy_multiplication(list_of_matrices, total_cost=0):\n",
    "    while len(list_of_matrices) > 1:\n",
    "        costs = []\n",
    "        for i in range(len(list_of_matrices) - 1):\n",
    "            cost = multiplication_cost(list_of_matrices[i], list_of_matrices[i + 1])\n",
    "            costs.append((cost, i))\n",
    "\n",
    "        min_cost, min_index = min(costs, key=lambda x: x[0])\n",
    "        total_cost += min_cost\n",
    "        new_matrix = np.dot(list_of_matrices[min_index], list_of_matrices[min_index + 1])\n",
    "        list_of_matrices[min_index] = new_matrix\n",
    "        del list_of_matrices[min_index + 1]\n",
    "\n",
    "    result_matrix = list_of_matrices[0]\n",
    "    return result_matrix, total_cost\n",
    "\n",
    "matrix1 = np.random.rand(4, 5)  # Random matrix of shape 4x5\n",
    "matrix2 = np.random.rand(5, 3)  # Random matrix of shape 5x3\n",
    "matrix3 = np.random.rand(3, 2)  # Random matrix of shape 3x2\n",
    "lista = []\n",
    "lista.append(matrix1)\n",
    "lista.append(matrix2)\n",
    "lista.append(matrix3)\n",
    "\n",
    "\n",
    "greedy_multiplication(lista)\n"
   ]
  },
  {
   "cell_type": "markdown",
   "metadata": {
    "id": "kXA9p3fIjKek"
   },
   "source": [
    "E(5): Generate a list of 100 random matrices using the code from part (A). Multiply them first using the functions defined in C , then again with the functions defined in D, verify that the result is the same, and report the total cost of each approach.\n",
    "\n",
    "Hint: calculate the two products, subtract them from each other: the sum of the entries of the difference should be 0."
   ]
  },
  {
   "cell_type": "code",
   "execution_count": null,
   "metadata": {
    "id": "CzW7ax8djKek",
    "outputId": "bf400de4-2bcb-443f-9129-bc6e54530757"
   },
   "outputs": [
    {
     "name": "stdout",
     "output_type": "stream",
     "text": [
      "Total cost (in-order multiplication): 420445977\n",
      "Total cost (greedy multiplication): 290791624\n",
      "Sum of the entries of the difference: 1.1302262669855552e+173\n"
     ]
    }
   ],
   "source": [
    "# Generate a list of 100 random matrices\n",
    "n = 100\n",
    "random_matrices = generate_random_matrices(n)\n",
    "\n",
    "# Multiply matrices using in-order multiplication\n",
    "result_matrix_in_order, total_cost_in_order = in_order_multiplication(random_matrices.copy())\n",
    "\n",
    "# Multiply matrices using greedy multiplication\n",
    "result_matrix_greedy, total_cost_greedy = greedy_multiplication(random_matrices.copy())\n",
    "\n",
    "# Verify the results are the same\n",
    "difference = result_matrix_in_order - result_matrix_greedy\n",
    "sum_of_difference = np.sum(np.abs(difference))\n",
    "\n",
    "# Print the total costs and the verification result\n",
    "print(\"Total cost (in-order multiplication):\", total_cost_in_order)\n",
    "print(\"Total cost (greedy multiplication):\", total_cost_greedy)\n",
    "print(\"Sum of the entries of the difference:\", sum_of_difference)\n",
    "\n",
    "\n"
   ]
  },
  {
   "cell_type": "markdown",
   "metadata": {
    "id": "bVTnJ-cBjKek"
   },
   "source": [
    "**Q4. (14 points):**\n",
    "You are given a dataset data.csv containing sales data with the following columns: Date, Store, Product, Quantity, and Revenue. Perform the following tasks.\n",
    "\n",
    "- Read in the dataset data.csv using Pandas.\n",
    "- Using the fillna method, fill missing values with the average\n",
    "- Filter the data for stores with Quantity > 10, and use the filtered dataframe for the subsequent tasks.\n",
    "- Add a column: Revenue_per_unit by dividing the Revenue column by the Quantity column\n",
    "- Calculate the total revenue of each store using groupby and sum"
   ]
  },
  {
   "cell_type": "code",
   "execution_count": null,
   "metadata": {
    "colab": {
     "base_uri": "https://localhost:8080/",
     "height": 365
    },
    "id": "2kNpOOILjKek",
    "outputId": "b55ab76a-51b5-4289-ff17-505b97898daf"
   },
   "outputs": [
    {
     "ename": "FileNotFoundError",
     "evalue": "[Errno 2] No such file or directory: 'data.csv'",
     "output_type": "error",
     "traceback": [
      "\u001b[0;31m---------------------------------------------------------------------------\u001b[0m",
      "\u001b[0;31mFileNotFoundError\u001b[0m                         Traceback (most recent call last)",
      "Cell \u001b[0;32mIn[7], line 5\u001b[0m\n\u001b[1;32m      1\u001b[0m \u001b[38;5;28;01mimport\u001b[39;00m \u001b[38;5;21;01mpandas\u001b[39;00m \u001b[38;5;28;01mas\u001b[39;00m \u001b[38;5;21;01mpd\u001b[39;00m\n\u001b[1;32m      2\u001b[0m \u001b[38;5;66;03m#your code here\u001b[39;00m\n\u001b[1;32m      3\u001b[0m \n\u001b[1;32m      4\u001b[0m \u001b[38;5;66;03m#read\u001b[39;00m\n\u001b[0;32m----> 5\u001b[0m df \u001b[38;5;241m=\u001b[39m pd\u001b[38;5;241m.\u001b[39mread_csv(\u001b[38;5;124m\"\u001b[39m\u001b[38;5;124mdata.csv\u001b[39m\u001b[38;5;124m\"\u001b[39m)\n\u001b[1;32m      6\u001b[0m \u001b[38;5;66;03m#print(df)\u001b[39;00m\n\u001b[1;32m      7\u001b[0m \n\u001b[1;32m      8\u001b[0m \u001b[38;5;66;03m#fill in the missing values\u001b[39;00m\n\u001b[1;32m      9\u001b[0m avg_rev \u001b[38;5;241m=\u001b[39m df[\u001b[38;5;124m'\u001b[39m\u001b[38;5;124mRevenue\u001b[39m\u001b[38;5;124m'\u001b[39m]\u001b[38;5;241m.\u001b[39mmean()\n",
      "File \u001b[0;32m~/anaconda3/lib/python3.11/site-packages/pandas/util/_decorators.py:211\u001b[0m, in \u001b[0;36mdeprecate_kwarg.<locals>._deprecate_kwarg.<locals>.wrapper\u001b[0;34m(*args, **kwargs)\u001b[0m\n\u001b[1;32m    209\u001b[0m     \u001b[38;5;28;01melse\u001b[39;00m:\n\u001b[1;32m    210\u001b[0m         kwargs[new_arg_name] \u001b[38;5;241m=\u001b[39m new_arg_value\n\u001b[0;32m--> 211\u001b[0m \u001b[38;5;28;01mreturn\u001b[39;00m func(\u001b[38;5;241m*\u001b[39margs, \u001b[38;5;241m*\u001b[39m\u001b[38;5;241m*\u001b[39mkwargs)\n",
      "File \u001b[0;32m~/anaconda3/lib/python3.11/site-packages/pandas/util/_decorators.py:331\u001b[0m, in \u001b[0;36mdeprecate_nonkeyword_arguments.<locals>.decorate.<locals>.wrapper\u001b[0;34m(*args, **kwargs)\u001b[0m\n\u001b[1;32m    325\u001b[0m \u001b[38;5;28;01mif\u001b[39;00m \u001b[38;5;28mlen\u001b[39m(args) \u001b[38;5;241m>\u001b[39m num_allow_args:\n\u001b[1;32m    326\u001b[0m     warnings\u001b[38;5;241m.\u001b[39mwarn(\n\u001b[1;32m    327\u001b[0m         msg\u001b[38;5;241m.\u001b[39mformat(arguments\u001b[38;5;241m=\u001b[39m_format_argument_list(allow_args)),\n\u001b[1;32m    328\u001b[0m         \u001b[38;5;167;01mFutureWarning\u001b[39;00m,\n\u001b[1;32m    329\u001b[0m         stacklevel\u001b[38;5;241m=\u001b[39mfind_stack_level(),\n\u001b[1;32m    330\u001b[0m     )\n\u001b[0;32m--> 331\u001b[0m \u001b[38;5;28;01mreturn\u001b[39;00m func(\u001b[38;5;241m*\u001b[39margs, \u001b[38;5;241m*\u001b[39m\u001b[38;5;241m*\u001b[39mkwargs)\n",
      "File \u001b[0;32m~/anaconda3/lib/python3.11/site-packages/pandas/io/parsers/readers.py:950\u001b[0m, in \u001b[0;36mread_csv\u001b[0;34m(filepath_or_buffer, sep, delimiter, header, names, index_col, usecols, squeeze, prefix, mangle_dupe_cols, dtype, engine, converters, true_values, false_values, skipinitialspace, skiprows, skipfooter, nrows, na_values, keep_default_na, na_filter, verbose, skip_blank_lines, parse_dates, infer_datetime_format, keep_date_col, date_parser, dayfirst, cache_dates, iterator, chunksize, compression, thousands, decimal, lineterminator, quotechar, quoting, doublequote, escapechar, comment, encoding, encoding_errors, dialect, error_bad_lines, warn_bad_lines, on_bad_lines, delim_whitespace, low_memory, memory_map, float_precision, storage_options)\u001b[0m\n\u001b[1;32m    935\u001b[0m kwds_defaults \u001b[38;5;241m=\u001b[39m _refine_defaults_read(\n\u001b[1;32m    936\u001b[0m     dialect,\n\u001b[1;32m    937\u001b[0m     delimiter,\n\u001b[0;32m   (...)\u001b[0m\n\u001b[1;32m    946\u001b[0m     defaults\u001b[38;5;241m=\u001b[39m{\u001b[38;5;124m\"\u001b[39m\u001b[38;5;124mdelimiter\u001b[39m\u001b[38;5;124m\"\u001b[39m: \u001b[38;5;124m\"\u001b[39m\u001b[38;5;124m,\u001b[39m\u001b[38;5;124m\"\u001b[39m},\n\u001b[1;32m    947\u001b[0m )\n\u001b[1;32m    948\u001b[0m kwds\u001b[38;5;241m.\u001b[39mupdate(kwds_defaults)\n\u001b[0;32m--> 950\u001b[0m \u001b[38;5;28;01mreturn\u001b[39;00m _read(filepath_or_buffer, kwds)\n",
      "File \u001b[0;32m~/anaconda3/lib/python3.11/site-packages/pandas/io/parsers/readers.py:605\u001b[0m, in \u001b[0;36m_read\u001b[0;34m(filepath_or_buffer, kwds)\u001b[0m\n\u001b[1;32m    602\u001b[0m _validate_names(kwds\u001b[38;5;241m.\u001b[39mget(\u001b[38;5;124m\"\u001b[39m\u001b[38;5;124mnames\u001b[39m\u001b[38;5;124m\"\u001b[39m, \u001b[38;5;28;01mNone\u001b[39;00m))\n\u001b[1;32m    604\u001b[0m \u001b[38;5;66;03m# Create the parser.\u001b[39;00m\n\u001b[0;32m--> 605\u001b[0m parser \u001b[38;5;241m=\u001b[39m TextFileReader(filepath_or_buffer, \u001b[38;5;241m*\u001b[39m\u001b[38;5;241m*\u001b[39mkwds)\n\u001b[1;32m    607\u001b[0m \u001b[38;5;28;01mif\u001b[39;00m chunksize \u001b[38;5;129;01mor\u001b[39;00m iterator:\n\u001b[1;32m    608\u001b[0m     \u001b[38;5;28;01mreturn\u001b[39;00m parser\n",
      "File \u001b[0;32m~/anaconda3/lib/python3.11/site-packages/pandas/io/parsers/readers.py:1442\u001b[0m, in \u001b[0;36mTextFileReader.__init__\u001b[0;34m(self, f, engine, **kwds)\u001b[0m\n\u001b[1;32m   1439\u001b[0m     \u001b[38;5;28mself\u001b[39m\u001b[38;5;241m.\u001b[39moptions[\u001b[38;5;124m\"\u001b[39m\u001b[38;5;124mhas_index_names\u001b[39m\u001b[38;5;124m\"\u001b[39m] \u001b[38;5;241m=\u001b[39m kwds[\u001b[38;5;124m\"\u001b[39m\u001b[38;5;124mhas_index_names\u001b[39m\u001b[38;5;124m\"\u001b[39m]\n\u001b[1;32m   1441\u001b[0m \u001b[38;5;28mself\u001b[39m\u001b[38;5;241m.\u001b[39mhandles: IOHandles \u001b[38;5;241m|\u001b[39m \u001b[38;5;28;01mNone\u001b[39;00m \u001b[38;5;241m=\u001b[39m \u001b[38;5;28;01mNone\u001b[39;00m\n\u001b[0;32m-> 1442\u001b[0m \u001b[38;5;28mself\u001b[39m\u001b[38;5;241m.\u001b[39m_engine \u001b[38;5;241m=\u001b[39m \u001b[38;5;28mself\u001b[39m\u001b[38;5;241m.\u001b[39m_make_engine(f, \u001b[38;5;28mself\u001b[39m\u001b[38;5;241m.\u001b[39mengine)\n",
      "File \u001b[0;32m~/anaconda3/lib/python3.11/site-packages/pandas/io/parsers/readers.py:1735\u001b[0m, in \u001b[0;36mTextFileReader._make_engine\u001b[0;34m(self, f, engine)\u001b[0m\n\u001b[1;32m   1733\u001b[0m     \u001b[38;5;28;01mif\u001b[39;00m \u001b[38;5;124m\"\u001b[39m\u001b[38;5;124mb\u001b[39m\u001b[38;5;124m\"\u001b[39m \u001b[38;5;129;01mnot\u001b[39;00m \u001b[38;5;129;01min\u001b[39;00m mode:\n\u001b[1;32m   1734\u001b[0m         mode \u001b[38;5;241m+\u001b[39m\u001b[38;5;241m=\u001b[39m \u001b[38;5;124m\"\u001b[39m\u001b[38;5;124mb\u001b[39m\u001b[38;5;124m\"\u001b[39m\n\u001b[0;32m-> 1735\u001b[0m \u001b[38;5;28mself\u001b[39m\u001b[38;5;241m.\u001b[39mhandles \u001b[38;5;241m=\u001b[39m get_handle(\n\u001b[1;32m   1736\u001b[0m     f,\n\u001b[1;32m   1737\u001b[0m     mode,\n\u001b[1;32m   1738\u001b[0m     encoding\u001b[38;5;241m=\u001b[39m\u001b[38;5;28mself\u001b[39m\u001b[38;5;241m.\u001b[39moptions\u001b[38;5;241m.\u001b[39mget(\u001b[38;5;124m\"\u001b[39m\u001b[38;5;124mencoding\u001b[39m\u001b[38;5;124m\"\u001b[39m, \u001b[38;5;28;01mNone\u001b[39;00m),\n\u001b[1;32m   1739\u001b[0m     compression\u001b[38;5;241m=\u001b[39m\u001b[38;5;28mself\u001b[39m\u001b[38;5;241m.\u001b[39moptions\u001b[38;5;241m.\u001b[39mget(\u001b[38;5;124m\"\u001b[39m\u001b[38;5;124mcompression\u001b[39m\u001b[38;5;124m\"\u001b[39m, \u001b[38;5;28;01mNone\u001b[39;00m),\n\u001b[1;32m   1740\u001b[0m     memory_map\u001b[38;5;241m=\u001b[39m\u001b[38;5;28mself\u001b[39m\u001b[38;5;241m.\u001b[39moptions\u001b[38;5;241m.\u001b[39mget(\u001b[38;5;124m\"\u001b[39m\u001b[38;5;124mmemory_map\u001b[39m\u001b[38;5;124m\"\u001b[39m, \u001b[38;5;28;01mFalse\u001b[39;00m),\n\u001b[1;32m   1741\u001b[0m     is_text\u001b[38;5;241m=\u001b[39mis_text,\n\u001b[1;32m   1742\u001b[0m     errors\u001b[38;5;241m=\u001b[39m\u001b[38;5;28mself\u001b[39m\u001b[38;5;241m.\u001b[39moptions\u001b[38;5;241m.\u001b[39mget(\u001b[38;5;124m\"\u001b[39m\u001b[38;5;124mencoding_errors\u001b[39m\u001b[38;5;124m\"\u001b[39m, \u001b[38;5;124m\"\u001b[39m\u001b[38;5;124mstrict\u001b[39m\u001b[38;5;124m\"\u001b[39m),\n\u001b[1;32m   1743\u001b[0m     storage_options\u001b[38;5;241m=\u001b[39m\u001b[38;5;28mself\u001b[39m\u001b[38;5;241m.\u001b[39moptions\u001b[38;5;241m.\u001b[39mget(\u001b[38;5;124m\"\u001b[39m\u001b[38;5;124mstorage_options\u001b[39m\u001b[38;5;124m\"\u001b[39m, \u001b[38;5;28;01mNone\u001b[39;00m),\n\u001b[1;32m   1744\u001b[0m )\n\u001b[1;32m   1745\u001b[0m \u001b[38;5;28;01massert\u001b[39;00m \u001b[38;5;28mself\u001b[39m\u001b[38;5;241m.\u001b[39mhandles \u001b[38;5;129;01mis\u001b[39;00m \u001b[38;5;129;01mnot\u001b[39;00m \u001b[38;5;28;01mNone\u001b[39;00m\n\u001b[1;32m   1746\u001b[0m f \u001b[38;5;241m=\u001b[39m \u001b[38;5;28mself\u001b[39m\u001b[38;5;241m.\u001b[39mhandles\u001b[38;5;241m.\u001b[39mhandle\n",
      "File \u001b[0;32m~/anaconda3/lib/python3.11/site-packages/pandas/io/common.py:856\u001b[0m, in \u001b[0;36mget_handle\u001b[0;34m(path_or_buf, mode, encoding, compression, memory_map, is_text, errors, storage_options)\u001b[0m\n\u001b[1;32m    851\u001b[0m \u001b[38;5;28;01melif\u001b[39;00m \u001b[38;5;28misinstance\u001b[39m(handle, \u001b[38;5;28mstr\u001b[39m):\n\u001b[1;32m    852\u001b[0m     \u001b[38;5;66;03m# Check whether the filename is to be opened in binary mode.\u001b[39;00m\n\u001b[1;32m    853\u001b[0m     \u001b[38;5;66;03m# Binary mode does not support 'encoding' and 'newline'.\u001b[39;00m\n\u001b[1;32m    854\u001b[0m     \u001b[38;5;28;01mif\u001b[39;00m ioargs\u001b[38;5;241m.\u001b[39mencoding \u001b[38;5;129;01mand\u001b[39;00m \u001b[38;5;124m\"\u001b[39m\u001b[38;5;124mb\u001b[39m\u001b[38;5;124m\"\u001b[39m \u001b[38;5;129;01mnot\u001b[39;00m \u001b[38;5;129;01min\u001b[39;00m ioargs\u001b[38;5;241m.\u001b[39mmode:\n\u001b[1;32m    855\u001b[0m         \u001b[38;5;66;03m# Encoding\u001b[39;00m\n\u001b[0;32m--> 856\u001b[0m         handle \u001b[38;5;241m=\u001b[39m \u001b[38;5;28mopen\u001b[39m(\n\u001b[1;32m    857\u001b[0m             handle,\n\u001b[1;32m    858\u001b[0m             ioargs\u001b[38;5;241m.\u001b[39mmode,\n\u001b[1;32m    859\u001b[0m             encoding\u001b[38;5;241m=\u001b[39mioargs\u001b[38;5;241m.\u001b[39mencoding,\n\u001b[1;32m    860\u001b[0m             errors\u001b[38;5;241m=\u001b[39merrors,\n\u001b[1;32m    861\u001b[0m             newline\u001b[38;5;241m=\u001b[39m\u001b[38;5;124m\"\u001b[39m\u001b[38;5;124m\"\u001b[39m,\n\u001b[1;32m    862\u001b[0m         )\n\u001b[1;32m    863\u001b[0m     \u001b[38;5;28;01melse\u001b[39;00m:\n\u001b[1;32m    864\u001b[0m         \u001b[38;5;66;03m# Binary mode\u001b[39;00m\n\u001b[1;32m    865\u001b[0m         handle \u001b[38;5;241m=\u001b[39m \u001b[38;5;28mopen\u001b[39m(handle, ioargs\u001b[38;5;241m.\u001b[39mmode)\n",
      "\u001b[0;31mFileNotFoundError\u001b[0m: [Errno 2] No such file or directory: 'data.csv'"
     ]
    }
   ],
   "source": [
    "import pandas as pd\n",
    "#your code here\n",
    "\n",
    "#read\n",
    "df = pd.read_csv(\"data.csv\")\n",
    "#print(df)\n",
    "\n",
    "#fill in the missing values\n",
    "avg_rev = df['Revenue'].mean()\n",
    "\n",
    "df.Revenue=df.Revenue.fillna(avg_rev)\n",
    "\n",
    "#filtering\n",
    "more10 = df[df['Quantity']>10]\n",
    "\n",
    "#add a column\n",
    "df['Revenue_per_unit']=df['Revenue']/df['Quantity']\n",
    "\n",
    "#df.head()\n",
    "\n",
    "#total\n",
    "total = df.groupby('Store')['Revenue'].sum()\n",
    "\n",
    "print(total)\n",
    "print(df)\n",
    "print(avg_rev)"
   ]
  },
  {
   "cell_type": "code",
   "execution_count": null,
   "metadata": {
    "id": "SK9fU8hXhFB8"
   },
   "outputs": [],
   "source": []
  }
 ],
 "metadata": {
  "colab": {
   "provenance": []
  },
  "kernelspec": {
   "display_name": "Python 3",
   "language": "python",
   "name": "python3"
  },
  "language_info": {
   "codemirror_mode": {
    "name": "ipython",
    "version": 3
   },
   "file_extension": ".py",
   "mimetype": "text/x-python",
   "name": "python",
   "nbconvert_exporter": "python",
   "pygments_lexer": "ipython3",
   "version": "3.9.10"
  }
 },
 "nbformat": 4,
 "nbformat_minor": 0
}
